{
 "cells": [
  {
   "cell_type": "code",
   "execution_count": 6,
   "metadata": {},
   "outputs": [],
   "source": [
    "import pandas as pd"
   ]
  },
  {
   "cell_type": "markdown",
   "metadata": {},
   "source": [
    "# Initialize the Data"
   ]
  },
  {
   "cell_type": "code",
   "execution_count": 7,
   "metadata": {},
   "outputs": [],
   "source": [
    "## Crimes Committed in Los Angeles\n",
    "df = pd.read_csv(\"Data/Crime_Data_from_2020_to_Present.csv\")\n",
    "## Sun Light Times in Los Angeles\n",
    "day_df = pd.read_csv(\"Data/daylightLA.csv\")"
   ]
  },
  {
   "cell_type": "markdown",
   "metadata": {},
   "source": [
    "# Clean and Save Data"
   ]
  },
  {
   "cell_type": "code",
   "execution_count": 8,
   "metadata": {},
   "outputs": [],
   "source": [
    "## Keep ages from 1 to 100\n",
    "def clean_age(df):\n",
    "    return df[df[\"Vict Age\"].between(1, 100)]\n",
    "\n",
    "## Only keep  the date\n",
    "def clean_dates(df):\n",
    "    df['Date Rptd'] = df['Date Rptd'].apply(lambda x: x.split()[0])\n",
    "    df['DATE OCC'] = df['DATE OCC'].apply(lambda x: x.split()[0])\n",
    "\n",
    "    return df\n",
    "\n",
    "## Drop certain columns\n",
    "def drop_specifics(df, drop_list):\n",
    "    return df.drop(columns=drop_list)\n",
    "\n",
    "## Cleaning Data\n",
    "df = clean_age(df)\n",
    "df = clean_dates(df)\n",
    "df = drop_specifics(df, [\"LOCATION\", \"Cross Street\", \"LAT\", \"LON\"])\n",
    "df.to_csv(\"Data/CleanedFile.csv\", sep=',', encoding='utf-8', index=False)"
   ]
  },
  {
   "cell_type": "markdown",
   "metadata": {},
   "source": [
    "# Add Sun Light Times to Data"
   ]
  },
  {
   "cell_type": "code",
   "execution_count": 9,
   "metadata": {},
   "outputs": [],
   "source": [
    "## Night or Day added to DF\n",
    "def sun_time(df:pd.DataFrame, day_df:pd.DataFrame):\n",
    "\n",
    "    day_night_list = []\n",
    "    for index, row in df.iterrows():\n",
    "\n",
    "        light:pd.DataFrame = day_df[day_df[\"Date\"] == row[\"DATE OCC\"]]\n",
    "        if row[\"TIME OCC\"] >= light[\"Time AM\"].item() and row[\"TIME OCC\"] < light[\"Time PM\"].item():\n",
    "            day_night_list.append(\"Day\")\n",
    "        else:\n",
    "            day_night_list.append(\"Night\")\n",
    "\n",
    "    ## Add Day Light times and whether it's Day or Night\n",
    "    merged_df = pd.merge(df, day_df, left_on='DATE OCC', right_on='Date', how='left')\n",
    "    merged_df[\"Sun\"] = day_night_list\n",
    "    merged_df = drop_specifics(merged_df, [\"Date\"])\n",
    "\n",
    "    return merged_df\n",
    "\n",
    "## Refining Data\n",
    "df = sun_time(df, day_df)\n",
    "df.to_csv(\"Data/RefinedFile.csv\", sep=',', encoding='utf-8', index=False)"
   ]
  }
 ],
 "metadata": {
  "kernelspec": {
   "display_name": "Python 3",
   "language": "python",
   "name": "python3"
  },
  "language_info": {
   "codemirror_mode": {
    "name": "ipython",
    "version": 3
   },
   "file_extension": ".py",
   "mimetype": "text/x-python",
   "name": "python",
   "nbconvert_exporter": "python",
   "pygments_lexer": "ipython3",
   "version": "3.9.18"
  }
 },
 "nbformat": 4,
 "nbformat_minor": 2
}
