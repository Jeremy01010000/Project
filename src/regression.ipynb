{
 "cells": [
  {
   "cell_type": "markdown",
   "metadata": {},
   "source": [
    "# Import Libraries"
   ]
  },
  {
   "cell_type": "code",
   "execution_count": 5,
   "metadata": {},
   "outputs": [],
   "source": [
    "import pandas as pd\n",
    "from sklearn.model_selection import train_test_split\n",
    "from sklearn.linear_model import LogisticRegression\n",
    "from sklearn.metrics import accuracy_score, classification_report"
   ]
  },
  {
   "cell_type": "markdown",
   "metadata": {},
   "source": [
    "# Setting up the Data"
   ]
  },
  {
   "cell_type": "code",
   "execution_count": 6,
   "metadata": {},
   "outputs": [],
   "source": [
    "data = pd.read_csv('Data/RefinedFile.csv')\n",
    "data = data[[\"DATE OCC\", \"TIME OCC\", \"AREA\", \"Crm Cd\", \"Vict Age\", \"Status Desc\"]] # Only keep these columns\n",
    "\n",
    "## Format Date to Day of the Week\n",
    "data['DATE OCC'] = pd.to_datetime(data['DATE OCC'])\n",
    "data['DATE OCC'] = data['DATE OCC'].dt.dayofweek\n",
    "\n",
    "## Selecting features and target variable\n",
    "independent_vars = data.drop('Status Desc', axis=1)  # Independent Variable\n",
    "dependent_var = data['Status Desc'].str.contains('arrest', case=False)  # Dependent Variables\n",
    "\n",
    "## Splitting data into training and testing sets\n",
    "X_train, X_test, y_train, y_test = train_test_split(independent_vars, dependent_var, test_size=0.2)"
   ]
  },
  {
   "cell_type": "markdown",
   "metadata": {},
   "source": [
    "# Regression Test Function"
   ]
  },
  {
   "cell_type": "code",
   "execution_count": 7,
   "metadata": {},
   "outputs": [],
   "source": [
    "def regression_test(class_weights:dict):\n",
    "\n",
    "    print(f'Weighting Scheme: {\" : \".join(str(weight) for weight in class_weights.values())} (Not Arrested : Arrested)')\n",
    "\n",
    "    ## Initialize and train the Logistic Regression model with class weights\n",
    "    model = LogisticRegression(class_weight=class_weights)\n",
    "    model.fit(X_train, y_train)\n",
    "\n",
    "    ## Perform a prediction on a subset of our data\n",
    "    y_pred = model.predict(X_test)\n",
    "\n",
    "    ## Evaluate the Model's Accuracy\n",
    "    accuracy = accuracy_score(y_test, y_pred)\n",
    "    print(f\"Accuracy: {accuracy}\")\n",
    "\n",
    "    ## Reports of Model\n",
    "    print(classification_report(y_test, y_pred, zero_division=0.0))\n",
    "    print(\"\\n\\n\\n\")"
   ]
  },
  {
   "cell_type": "markdown",
   "metadata": {},
   "source": [
    "# Execute Script"
   ]
  },
  {
   "cell_type": "code",
   "execution_count": 8,
   "metadata": {},
   "outputs": [
    {
     "name": "stdout",
     "output_type": "stream",
     "text": [
      "Weighting Scheme: 1.0 : 6.5 (Not Arrested : Arrested)\n",
      "Accuracy: 0.9023514329168757\n",
      "              precision    recall  f1-score   support\n",
      "\n",
      "       False       0.91      0.99      0.95    113829\n",
      "        True       0.22      0.02      0.03     11754\n",
      "\n",
      "    accuracy                           0.90    125583\n",
      "   macro avg       0.56      0.51      0.49    125583\n",
      "weighted avg       0.84      0.90      0.86    125583\n",
      "\n",
      "\n",
      "\n",
      "\n",
      "\n"
     ]
    }
   ],
   "source": [
    "if __name__ == \"__main__\":\n",
    "    ## Give a higher weight to the Arrested since they are of minority in the data\n",
    "    ## 0 - Not Arrested ; 1 - Arrested\n",
    "    class_weights = {0: 1.0, 1: 6.5} \n",
    "    regression_test(class_weights)"
   ]
  }
 ],
 "metadata": {
  "kernelspec": {
   "display_name": "Python 3",
   "language": "python",
   "name": "python3"
  },
  "language_info": {
   "codemirror_mode": {
    "name": "ipython",
    "version": 3
   },
   "file_extension": ".py",
   "mimetype": "text/x-python",
   "name": "python",
   "nbconvert_exporter": "python",
   "pygments_lexer": "ipython3",
   "version": "3.9.18"
  }
 },
 "nbformat": 4,
 "nbformat_minor": 2
}
