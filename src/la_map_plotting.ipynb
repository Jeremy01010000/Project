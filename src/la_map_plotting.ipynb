{
 "cells": [
  {
   "cell_type": "markdown",
   "metadata": {},
   "source": [
    "# Import Libraries"
   ]
  },
  {
   "cell_type": "code",
   "execution_count": 5,
   "metadata": {},
   "outputs": [],
   "source": [
    "import pandas as pd\n",
    "import matplotlib.pyplot as plt\n",
    "import folium\n",
    "from folium import plugins"
   ]
  },
  {
   "cell_type": "markdown",
   "metadata": {},
   "source": [
    "# Map Plotting"
   ]
  },
  {
   "cell_type": "code",
   "execution_count": 6,
   "metadata": {},
   "outputs": [
    {
     "name": "stderr",
     "output_type": "stream",
     "text": [
      "/var/folders/1r/nhfv97zj4b1dcm5q0rvk4nt00000gn/T/ipykernel_6985/2213192704.py:47: FutureWarning: Method `add_children` is deprecated. Please use `add_child` instead.\n",
      "  m.add_children(plugins.HeatMap(location_data, radius=15))\n"
     ]
    }
   ],
   "source": [
    "### Read the data \n",
    "df=pd.read_csv(\"Data/RefinedFile.csv\")\n",
    "df = df[df['LON'].notna()]\n",
    "df = df[df['LAT'].notna()]\n",
    "df = df[df['LON']!= 0]\n",
    "df = df[df['LAT']!= 0]\n",
    "\n",
    "location=df.groupby(['LAT','LON','AREA NAME']).size().reset_index(name='count').sort_values(by='count',ascending=False)\n",
    "location=location[location['count']>5]\n",
    "location['color']=location['count'].apply(lambda count:\"Black\" if count>=400 else\n",
    "                                         \"green\" if count>=300 and count<400 else\n",
    "                                         \"Orange\" if count>=200 and count<300 else\n",
    "                                         \"darkblue\" if count>=150 and count<200 else\n",
    "                                         \"red\" if count>=100 and count<150 else\n",
    "                                         \"lightblue\" if count>=75 and count<100 else\n",
    "                                         \"brown\" if count>=50 and count<75 else\n",
    "                                         \"grey\")\n",
    "location['size']=location['count'].apply(lambda count:12 if count>=400 else\n",
    "                                         10 if count>=300 and count<400 else\n",
    "                                         8 if count>=200 and count<300 else\n",
    "                                         6 if count>=150 and count<200 else\n",
    "                                         4 if count>=100 and count<150 else\n",
    "                                         2 if count>=75 and count<100 else\n",
    "                                         1 if count>=50 and count<75 else\n",
    "                                         0.1)\n",
    "\n",
    "m=folium.Map([34.2012,-118.4662],zoom_start=11)\n",
    "\n",
    "for lat,lon,area,color,count,size in zip(location['LAT'],location['LON'],location['AREA NAME'],location['color'],location['count'],location['size']):\n",
    "     folium.CircleMarker([lat, lon],\n",
    "                            popup=area,\n",
    "                            radius=size,\n",
    "                            color='b',\n",
    "                            fill=True,\n",
    "                            fill_opacity=0.7,\n",
    "                            fill_color=color,\n",
    "                           ).add_to(m)\n",
    "\n",
    "## Save Map without Heat\n",
    "m.save(\"templates/LA.html\")\n",
    "location.head()\n",
    "location_data = location[['LAT', 'LON']]\n",
    "\n",
    "## Save Heatmap\n",
    "m.add_children(plugins.HeatMap(location_data, radius=15))\n",
    "m.save('templates/heatmap.html')"
   ]
  },
  {
   "cell_type": "markdown",
   "metadata": {},
   "source": [
    "# Credit\n",
    "#### https://madhuramiah.medium.com/geographic-plotting-with-python-folium-2f235cc167b7"
   ]
  }
 ],
 "metadata": {
  "kernelspec": {
   "display_name": "Python 3",
   "language": "python",
   "name": "python3"
  },
  "language_info": {
   "codemirror_mode": {
    "name": "ipython",
    "version": 3
   },
   "file_extension": ".py",
   "mimetype": "text/x-python",
   "name": "python",
   "nbconvert_exporter": "python",
   "pygments_lexer": "ipython3",
   "version": "3.9.18"
  }
 },
 "nbformat": 4,
 "nbformat_minor": 2
}
