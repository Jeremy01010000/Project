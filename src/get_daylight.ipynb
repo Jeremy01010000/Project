{
 "cells": [
  {
   "cell_type": "markdown",
   "metadata": {},
   "source": [
    "# Import Libraries"
   ]
  },
  {
   "cell_type": "code",
   "execution_count": 79,
   "metadata": {},
   "outputs": [],
   "source": [
    "import requests\n",
    "from bs4 import BeautifulSoup\n",
    "import csv\n",
    "import re"
   ]
  },
  {
   "cell_type": "markdown",
   "metadata": {},
   "source": [
    "# Web Scrape to get Sun Set and Sun Rise Times"
   ]
  },
  {
   "cell_type": "code",
   "execution_count": 80,
   "metadata": {},
   "outputs": [],
   "source": [
    "def get_page_info(url, month, year):\n",
    "    ## Send a GET request to the URL\n",
    "    response = requests.get(url)\n",
    "\n",
    "    ## Check if the request was successful (status code 200)\n",
    "    if response.status_code == 200:\n",
    "        # Parsing HTML into Soup\n",
    "        soup = BeautifulSoup(response.content, 'html.parser')\n",
    "\n",
    "        ## Extract information from the page\n",
    "        table = soup.find(id='as-monthsun').find('tbody')\n",
    "        rows = table.find_all('tr')\n",
    "\n",
    "        with open('Data/daylightLA.csv', 'a', newline='') as csvfile:\n",
    "            spamwriter = csv.writer(csvfile, delimiter=',')\n",
    "            for day, row in enumerate(rows, start=1):\n",
    "                data = [td.get_text(strip=True) for td in row.find_all('td')[:2]]\n",
    "                clean_data = [re.sub(r'[: ]', '', text, count=1).split(\" \")[0] for text in data]\n",
    "                if len(clean_data) == 2:\n",
    "                    clean_data[1] = str(int(clean_data[1]) + 1200)\n",
    "                    spamwriter.writerow([f'{month:02d}/{day:02d}/{year}', *clean_data])\n"
   ]
  },
  {
   "cell_type": "markdown",
   "metadata": {},
   "source": [
    "# Write CSV headers and Format the URL"
   ]
  },
  {
   "cell_type": "code",
   "execution_count": 81,
   "metadata": {},
   "outputs": [],
   "source": [
    "def populate_csv():\n",
    "    ## Writting the headers in CSV\n",
    "    schema = [\"Date\", \"Time AM\", \"Time PM\"]\n",
    "    with open('Data/daylightLA.csv', 'w', newline='') as csvfile:\n",
    "        spamwriter = csv.writer(csvfile, delimiter=',')\n",
    "        spamwriter.writerow(schema)\n",
    "\n",
    "    ## Get info throughout the years\n",
    "    for year in range(2020, 2024):\n",
    "        for month in range(1, 13):        \n",
    "            url = f'https://www.timeanddate.com/sun/usa/los-angeles?month={month}&year={year}'\n",
    "            get_page_info(url, month, year)"
   ]
  },
  {
   "cell_type": "markdown",
   "metadata": {},
   "source": [
    "# Execute Script"
   ]
  },
  {
   "cell_type": "code",
   "execution_count": 82,
   "metadata": {},
   "outputs": [],
   "source": [
    "if __name__ == \"__main__\":\n",
    "    populate_csv()"
   ]
  }
 ],
 "metadata": {
  "kernelspec": {
   "display_name": "Python 3",
   "language": "python",
   "name": "python3"
  },
  "language_info": {
   "codemirror_mode": {
    "name": "ipython",
    "version": 3
   },
   "file_extension": ".py",
   "mimetype": "text/x-python",
   "name": "python",
   "nbconvert_exporter": "python",
   "pygments_lexer": "ipython3",
   "version": "3.9.18"
  }
 },
 "nbformat": 4,
 "nbformat_minor": 2
}
