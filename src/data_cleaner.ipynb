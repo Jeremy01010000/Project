{
 "cells": [
  {
   "cell_type": "markdown",
   "metadata": {},
   "source": [
    "# Import Libraries"
   ]
  },
  {
   "cell_type": "code",
   "execution_count": 37,
   "metadata": {},
   "outputs": [],
   "source": [
    "import pandas as pd"
   ]
  },
  {
   "cell_type": "markdown",
   "metadata": {},
   "source": [
    "# Keep Ages from 1 to 100"
   ]
  },
  {
   "cell_type": "code",
   "execution_count": 38,
   "metadata": {},
   "outputs": [],
   "source": [
    "def clean_age(df):\n",
    "    return df[df[\"Vict Age\"].between(1, 100)]"
   ]
  },
  {
   "cell_type": "markdown",
   "metadata": {},
   "source": [
    "# Clean the Date Format"
   ]
  },
  {
   "cell_type": "code",
   "execution_count": 39,
   "metadata": {},
   "outputs": [],
   "source": [
    "def clean_dates(df):\n",
    "    df['Date Rptd'] = df['Date Rptd'].apply(lambda x: x.split()[0])\n",
    "    df['DATE OCC'] = df['DATE OCC'].apply(lambda x: x.split()[0])\n",
    "\n",
    "    return df"
   ]
  },
  {
   "cell_type": "markdown",
   "metadata": {},
   "source": [
    "# Drop Specific Columns"
   ]
  },
  {
   "cell_type": "code",
   "execution_count": 40,
   "metadata": {},
   "outputs": [],
   "source": [
    "def drop_columns(df, drop_list):\n",
    "    return df.drop(columns=drop_list)"
   ]
  },
  {
   "cell_type": "markdown",
   "metadata": {},
   "source": [
    "# Add Sun Rise and Sun Set times and whether the time of crime is Day or Night"
   ]
  },
  {
   "cell_type": "code",
   "execution_count": 41,
   "metadata": {},
   "outputs": [],
   "source": [
    "def sun_time(df:pd.DataFrame, day_df:pd.DataFrame):\n",
    "    ## Merge dataframes\n",
    "    merged_df = pd.merge(df, day_df, left_on='DATE OCC', right_on='Date', how='left')\n",
    "\n",
    "    ## Night or Day Mask\n",
    "    mask_day = (merged_df['TIME OCC'] >= merged_df['Time AM']) & (merged_df['TIME OCC'] < merged_df['Time PM'])\n",
    "\n",
    "    ## Assign to Night or Day depending on Condition\n",
    "    merged_df['Sun'] = 'Night'\n",
    "    merged_df.loc[mask_day, 'Sun'] = 'Day'\n",
    "\n",
    "    ## Drop Redundant Columns\n",
    "    merged_df.drop(columns=['Date', 'Time AM', 'Time PM'], inplace=True)\n",
    "\n",
    "    return merged_df"
   ]
  },
  {
   "cell_type": "markdown",
   "metadata": {},
   "source": [
    "# Execute Functions"
   ]
  },
  {
   "cell_type": "code",
   "execution_count": 42,
   "metadata": {},
   "outputs": [],
   "source": [
    "if __name__ == \"__main__\":\n",
    "    ## Crimes Committed in Los Angeles\n",
    "    df = pd.read_csv(\"Data/Crime_Data_from_2020_to_Present.csv\")\n",
    "    ## Sun Light Times in Los Angeles\n",
    "    day_df = pd.read_csv(\"Data/daylightLA.csv\")\n",
    "\n",
    "    ## Clean/Manipulate Data\n",
    "    df = clean_age(df)\n",
    "    df = clean_dates(df)\n",
    "    df = sun_time(df, day_df)\n",
    "    df.to_csv(\"Data/RefinedFile.csv\", sep=',', encoding='utf-8', index=False)"
   ]
  }
 ],
 "metadata": {
  "kernelspec": {
   "display_name": "Python 3",
   "language": "python",
   "name": "python3"
  },
  "language_info": {
   "codemirror_mode": {
    "name": "ipython",
    "version": 3
   },
   "file_extension": ".py",
   "mimetype": "text/x-python",
   "name": "python",
   "nbconvert_exporter": "python",
   "pygments_lexer": "ipython3",
   "version": "3.9.18"
  }
 },
 "nbformat": 4,
 "nbformat_minor": 2
}
