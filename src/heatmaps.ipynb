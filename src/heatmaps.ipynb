{
 "cells": [
  {
   "cell_type": "markdown",
   "metadata": {},
   "source": [
    "# Import Libraries"
   ]
  },
  {
   "cell_type": "code",
   "execution_count": 58,
   "metadata": {},
   "outputs": [],
   "source": [
    "import pandas as pd\n",
    "import seaborn as sns\n",
    "import matplotlib.pyplot as plt\n",
    "import calendar"
   ]
  },
  {
   "cell_type": "markdown",
   "metadata": {},
   "source": [
    "# Initialize the DataFrame"
   ]
  },
  {
   "cell_type": "code",
   "execution_count": 59,
   "metadata": {},
   "outputs": [],
   "source": [
    "df = pd.read_csv(\"Data/RefinedFile.csv\", na_values='-', index_col=0)\n",
    "# df"
   ]
  },
  {
   "cell_type": "markdown",
   "metadata": {},
   "source": [
    "# Generating an image of your Heatmap"
   ]
  },
  {
   "cell_type": "code",
   "execution_count": 60,
   "metadata": {},
   "outputs": [],
   "source": [
    "def heat(df:pd.DataFrame, normalize, params, annot=False):\n",
    "\n",
    "    ## Create proper fomrmat\n",
    "    if params['Title'] == \"Hour\":\n",
    "        df = df.pivot_table(index='Crm Cd Desc', columns=df['TIME OCC'] // 100, values='Count', aggfunc='sum', fill_value=0)\n",
    "\n",
    "    elif params['Title'] == \"Light\":\n",
    "        df = df.pivot_table(index='Crm Cd Desc', columns='Sun', values='Count', aggfunc='sum', fill_value=0)\n",
    "\n",
    "    elif params['Title'] == \"Weekday\":\n",
    "        ## Convert str to datetime\n",
    "        df['DATE OCC'] = pd.to_datetime(df['DATE OCC'], format='%m/%d/%Y')\n",
    "\n",
    "        ## Create Weekday Column\n",
    "        df['Weekday'] = df['DATE OCC'].dt.strftime('%A')\n",
    "\n",
    "        pivoted_table = df.pivot_table(index='Crm Cd Desc', columns='Weekday', values='Count', aggfunc='sum', fill_value=0)\n",
    "\n",
    "        ## Sort Weekday's order\n",
    "        weekday_order = list(calendar.day_name)\n",
    "        df = pivoted_table.reindex(columns=weekday_order)\n",
    "\n",
    "    else:\n",
    "        print(\"Please enter a valid title (Hour, Light, Weekday)\")\n",
    "\n",
    "\n",
    "    ## Normalizing\n",
    "    if normalize:\n",
    "        min_val = df.values.min()\n",
    "        max_val = df.values.max()\n",
    "        df = (df - min_val) / (max_val - min_val)\n",
    "        \n",
    "    ## Don't print heatmap in notebook\n",
    "    plt.ioff()\n",
    "    plt.figure(figsize=(16,8))\n",
    "    plt.title(f'Crimes in a given Time frame')\n",
    "    plt.subplots_adjust(left=0.4)\n",
    "    \n",
    "    heatmap = sns.heatmap(df, annot=annot)\n",
    "    heatmap.set_ylabel('Crimes')\n",
    "    heatmap.set_xlabel(params['Xlabel'])\n",
    "    fig = heatmap.get_figure()\n",
    "    fig.savefig(f\"figures/heatmaps/{params['Title']}/{params['Title'][0]}({params['Start']}-{params['End']}).png\") \n",
    "\n",
    "\n",
    "\n",
    "\n",
    "def generate_heatmaps(df:pd.DataFrame, start, end, normalize=True):\n",
    "    ## Only keep values in range\n",
    "    value_counts = df[\"Crm Cd Desc\"].value_counts()\n",
    "    selected_values = value_counts[value_counts.between(start, end)].index.tolist()\n",
    "    df = df[df[\"Crm Cd Desc\"].isin(selected_values)]\n",
    "\n",
    "    ## Weekday Heatmap\n",
    "    weekday_group = df.groupby([\"Crm Cd Desc\", \"DATE OCC\"]).size().reset_index(name='Count')\n",
    "    heat(weekday_group, normalize, {\"Title\": \"Weekday\", \"Start\": start, \"End\": end, \"Xlabel\": \"Day of the Week\"})\n",
    "\n",
    "    ## Light Heatmap\n",
    "    light_group = df.groupby([\"Crm Cd Desc\", \"Sun\"]).size().reset_index(name='Count')\n",
    "    heat(light_group, normalize, {\"Title\": \"Light\", \"Start\": start, \"End\": end, \"Xlabel\": \"Daylight\"})\n",
    "\n",
    "    ## Hour Heatmap\n",
    "    hour_group = df.groupby([\"Crm Cd Desc\", \"TIME OCC\"]).size().reset_index(name='Count')\n",
    "    heat(hour_group, normalize, {\"Title\": \"Hour\", \"Start\": start, \"End\": end, \"Xlabel\": \"Time (0-23h)\"})\n"
   ]
  },
  {
   "cell_type": "markdown",
   "metadata": {},
   "source": [
    "# Generation calls"
   ]
  },
  {
   "cell_type": "code",
   "execution_count": 63,
   "metadata": {},
   "outputs": [],
   "source": [
    "# generate_heatmap(df, from, to, normalize)\n",
    "\n",
    "if __name__ == \"__main__\":\n",
    "    generate_heatmaps(df, 0, 1000, True)\n",
    "    generate_heatmaps(df, 1000, 5000, True)\n",
    "\n",
    "    for i in range(10000, 70000, 10000):\n",
    "        generate_heatmaps(df, i, i+10000, True)"
   ]
  }
 ],
 "metadata": {
  "kernelspec": {
   "display_name": "Python 3",
   "language": "python",
   "name": "python3"
  },
  "language_info": {
   "codemirror_mode": {
    "name": "ipython",
    "version": 3
   },
   "file_extension": ".py",
   "mimetype": "text/x-python",
   "name": "python",
   "nbconvert_exporter": "python",
   "pygments_lexer": "ipython3",
   "version": "3.9.18"
  }
 },
 "nbformat": 4,
 "nbformat_minor": 2
}
